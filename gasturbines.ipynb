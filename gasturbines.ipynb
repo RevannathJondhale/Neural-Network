{
 "cells": [
  {
   "cell_type": "code",
   "execution_count": 1,
   "id": "a6ddd249",
   "metadata": {},
   "outputs": [],
   "source": [
    "## Revannath Jondhale assignment for the gas turbine "
   ]
  },
  {
   "cell_type": "code",
   "execution_count": 2,
   "id": "4903bd1f",
   "metadata": {},
   "outputs": [],
   "source": [
    "import pandas as pd"
   ]
  },
  {
   "cell_type": "code",
   "execution_count": 3,
   "id": "69254edf",
   "metadata": {},
   "outputs": [],
   "source": [
    "import numpy as np"
   ]
  },
  {
   "cell_type": "code",
   "execution_count": 4,
   "id": "0b1e2ed8",
   "metadata": {},
   "outputs": [],
   "source": [
    "import matplotlib.pyplot as plt"
   ]
  },
  {
   "cell_type": "code",
   "execution_count": 5,
   "id": "e5a275f9",
   "metadata": {},
   "outputs": [],
   "source": [
    "gasturbines = pd.read_csv(\"gas_turbines.csv\")"
   ]
  },
  {
   "cell_type": "code",
   "execution_count": 6,
   "id": "04b8a49f",
   "metadata": {},
   "outputs": [
    {
     "name": "stdout",
     "output_type": "stream",
     "text": [
      "           AT      AP      AH    AFDP    GTEP     TIT     TAT     TEY     CDP  \\\n",
      "0      6.8594  1007.9  96.799  3.5000  19.663  1059.2  550.00  114.70  10.605   \n",
      "1      6.7850  1008.4  97.118  3.4998  19.728  1059.3  550.00  114.72  10.598   \n",
      "2      6.8977  1008.8  95.939  3.4824  19.779  1059.4  549.87  114.71  10.601   \n",
      "3      7.0569  1009.2  95.249  3.4805  19.792  1059.6  549.99  114.72  10.606   \n",
      "4      7.3978  1009.7  95.150  3.4976  19.765  1059.7  549.98  114.72  10.612   \n",
      "...       ...     ...     ...     ...     ...     ...     ...     ...     ...   \n",
      "15034  9.0301  1005.6  98.460  3.5421  19.164  1049.7  546.21  111.61  10.400   \n",
      "15035  7.8879  1005.9  99.093  3.5059  19.414  1046.3  543.22  111.78  10.433   \n",
      "15036  7.2647  1006.3  99.496  3.4770  19.530  1037.7  537.32  110.19  10.483   \n",
      "15037  7.0060  1006.8  99.008  3.4486  19.377  1043.2  541.24  110.74  10.533   \n",
      "15038  6.9279  1007.2  97.533  3.4275  19.306  1049.9  545.85  111.58  10.583   \n",
      "\n",
      "           CO     NOX  \n",
      "0      3.1547  82.722  \n",
      "1      3.2363  82.776  \n",
      "2      3.2012  82.468  \n",
      "3      3.1923  82.670  \n",
      "4      3.2484  82.311  \n",
      "...       ...     ...  \n",
      "15034  4.5186  79.559  \n",
      "15035  4.8470  79.917  \n",
      "15036  7.9632  90.912  \n",
      "15037  6.2494  93.227  \n",
      "15038  4.9816  92.498  \n",
      "\n",
      "[15039 rows x 11 columns]\n"
     ]
    }
   ],
   "source": [
    "print(gasturbines)"
   ]
  },
  {
   "cell_type": "code",
   "execution_count": 7,
   "id": "2c4fc9c9",
   "metadata": {},
   "outputs": [
    {
     "data": {
      "text/plain": [
       "<bound method NDFrame.head of            AT      AP      AH    AFDP    GTEP     TIT     TAT     TEY     CDP  \\\n",
       "0      6.8594  1007.9  96.799  3.5000  19.663  1059.2  550.00  114.70  10.605   \n",
       "1      6.7850  1008.4  97.118  3.4998  19.728  1059.3  550.00  114.72  10.598   \n",
       "2      6.8977  1008.8  95.939  3.4824  19.779  1059.4  549.87  114.71  10.601   \n",
       "3      7.0569  1009.2  95.249  3.4805  19.792  1059.6  549.99  114.72  10.606   \n",
       "4      7.3978  1009.7  95.150  3.4976  19.765  1059.7  549.98  114.72  10.612   \n",
       "...       ...     ...     ...     ...     ...     ...     ...     ...     ...   \n",
       "15034  9.0301  1005.6  98.460  3.5421  19.164  1049.7  546.21  111.61  10.400   \n",
       "15035  7.8879  1005.9  99.093  3.5059  19.414  1046.3  543.22  111.78  10.433   \n",
       "15036  7.2647  1006.3  99.496  3.4770  19.530  1037.7  537.32  110.19  10.483   \n",
       "15037  7.0060  1006.8  99.008  3.4486  19.377  1043.2  541.24  110.74  10.533   \n",
       "15038  6.9279  1007.2  97.533  3.4275  19.306  1049.9  545.85  111.58  10.583   \n",
       "\n",
       "           CO     NOX  \n",
       "0      3.1547  82.722  \n",
       "1      3.2363  82.776  \n",
       "2      3.2012  82.468  \n",
       "3      3.1923  82.670  \n",
       "4      3.2484  82.311  \n",
       "...       ...     ...  \n",
       "15034  4.5186  79.559  \n",
       "15035  4.8470  79.917  \n",
       "15036  7.9632  90.912  \n",
       "15037  6.2494  93.227  \n",
       "15038  4.9816  92.498  \n",
       "\n",
       "[15039 rows x 11 columns]>"
      ]
     },
     "execution_count": 7,
     "metadata": {},
     "output_type": "execute_result"
    }
   ],
   "source": [
    "gasturbines.head"
   ]
  },
  {
   "cell_type": "code",
   "execution_count": 8,
   "id": "f4c85f29",
   "metadata": {},
   "outputs": [
    {
     "name": "stdout",
     "output_type": "stream",
     "text": [
      "<class 'pandas.core.frame.DataFrame'>\n",
      "RangeIndex: 15039 entries, 0 to 15038\n",
      "Data columns (total 11 columns):\n",
      " #   Column  Non-Null Count  Dtype  \n",
      "---  ------  --------------  -----  \n",
      " 0   AT      15039 non-null  float64\n",
      " 1   AP      15039 non-null  float64\n",
      " 2   AH      15039 non-null  float64\n",
      " 3   AFDP    15039 non-null  float64\n",
      " 4   GTEP    15039 non-null  float64\n",
      " 5   TIT     15039 non-null  float64\n",
      " 6   TAT     15039 non-null  float64\n",
      " 7   TEY     15039 non-null  float64\n",
      " 8   CDP     15039 non-null  float64\n",
      " 9   CO      15039 non-null  float64\n",
      " 10  NOX     15039 non-null  float64\n",
      "dtypes: float64(11)\n",
      "memory usage: 1.3 MB\n"
     ]
    }
   ],
   "source": [
    "gasturbines.info()"
   ]
  },
  {
   "cell_type": "code",
   "execution_count": 10,
   "id": "a771ac53",
   "metadata": {},
   "outputs": [
    {
     "data": {
      "text/plain": [
       "Index(['AT', 'AP', 'AH', 'AFDP', 'GTEP', 'TIT', 'TAT', 'TEY', 'CDP', 'CO',\n",
       "       'NOX'],\n",
       "      dtype='object')"
      ]
     },
     "execution_count": 10,
     "metadata": {},
     "output_type": "execute_result"
    }
   ],
   "source": [
    "gasturbines.columns"
   ]
  },
  {
   "cell_type": "code",
   "execution_count": 11,
   "id": "e40c8613",
   "metadata": {},
   "outputs": [
    {
     "data": {
      "text/html": [
       "<div>\n",
       "<style scoped>\n",
       "    .dataframe tbody tr th:only-of-type {\n",
       "        vertical-align: middle;\n",
       "    }\n",
       "\n",
       "    .dataframe tbody tr th {\n",
       "        vertical-align: top;\n",
       "    }\n",
       "\n",
       "    .dataframe thead th {\n",
       "        text-align: right;\n",
       "    }\n",
       "</style>\n",
       "<table border=\"1\" class=\"dataframe\">\n",
       "  <thead>\n",
       "    <tr style=\"text-align: right;\">\n",
       "      <th></th>\n",
       "    </tr>\n",
       "  </thead>\n",
       "  <tbody>\n",
       "    <tr>\n",
       "      <th>0</th>\n",
       "    </tr>\n",
       "    <tr>\n",
       "      <th>1</th>\n",
       "    </tr>\n",
       "    <tr>\n",
       "      <th>2</th>\n",
       "    </tr>\n",
       "    <tr>\n",
       "      <th>3</th>\n",
       "    </tr>\n",
       "    <tr>\n",
       "      <th>4</th>\n",
       "    </tr>\n",
       "    <tr>\n",
       "      <th>...</th>\n",
       "    </tr>\n",
       "    <tr>\n",
       "      <th>15034</th>\n",
       "    </tr>\n",
       "    <tr>\n",
       "      <th>15035</th>\n",
       "    </tr>\n",
       "    <tr>\n",
       "      <th>15036</th>\n",
       "    </tr>\n",
       "    <tr>\n",
       "      <th>15037</th>\n",
       "    </tr>\n",
       "    <tr>\n",
       "      <th>15038</th>\n",
       "    </tr>\n",
       "  </tbody>\n",
       "</table>\n",
       "<p>15039 rows × 0 columns</p>\n",
       "</div>"
      ],
      "text/plain": [
       "Empty DataFrame\n",
       "Columns: []\n",
       "Index: [0, 1, 2, 3, 4, 5, 6, 7, 8, 9, 10, 11, 12, 13, 14, 15, 16, 17, 18, 19, 20, 21, 22, 23, 24, 25, 26, 27, 28, 29, 30, 31, 32, 33, 34, 35, 36, 37, 38, 39, 40, 41, 42, 43, 44, 45, 46, 47, 48, 49, 50, 51, 52, 53, 54, 55, 56, 57, 58, 59, 60, 61, 62, 63, 64, 65, 66, 67, 68, 69, 70, 71, 72, 73, 74, 75, 76, 77, 78, 79, 80, 81, 82, 83, 84, 85, 86, 87, 88, 89, 90, 91, 92, 93, 94, 95, 96, 97, 98, 99, ...]\n",
       "\n",
       "[15039 rows x 0 columns]"
      ]
     },
     "execution_count": 11,
     "metadata": {},
     "output_type": "execute_result"
    }
   ],
   "source": [
    "gasturbines.select_dtypes(object)"
   ]
  },
  {
   "cell_type": "code",
   "execution_count": 12,
   "id": "994feca6",
   "metadata": {},
   "outputs": [
    {
     "data": {
      "text/plain": [
       "AT      0\n",
       "AP      0\n",
       "AH      0\n",
       "AFDP    0\n",
       "GTEP    0\n",
       "TIT     0\n",
       "TAT     0\n",
       "TEY     0\n",
       "CDP     0\n",
       "CO      0\n",
       "NOX     0\n",
       "dtype: int64"
      ]
     },
     "execution_count": 12,
     "metadata": {},
     "output_type": "execute_result"
    }
   ],
   "source": [
    "gasturbines.isnull().sum() "
   ]
  },
  {
   "cell_type": "code",
   "execution_count": 13,
   "id": "7eec5082",
   "metadata": {},
   "outputs": [],
   "source": [
    "import seaborn as sb"
   ]
  },
  {
   "cell_type": "code",
   "execution_count": 14,
   "id": "8ee659bb",
   "metadata": {},
   "outputs": [
    {
     "name": "stderr",
     "output_type": "stream",
     "text": [
      "C:\\Users\\hp\\anaconda3\\lib\\site-packages\\seaborn\\_decorators.py:36: FutureWarning: Pass the following variable as a keyword arg: x. From version 0.12, the only valid positional argument will be `data`, and passing other arguments without an explicit keyword will result in an error or misinterpretation.\n",
      "  warnings.warn(\n"
     ]
    },
    {
     "data": {
      "text/plain": [
       "<AxesSubplot:xlabel='AT'>"
      ]
     },
     "execution_count": 14,
     "metadata": {},
     "output_type": "execute_result"
    },
    {
     "data": {
      "image/png": "[encoded data removed]",
      "text/plain": [
       "<Figure size 432x288 with 1 Axes>"
      ]
     },
     "metadata": {
      "needs_background": "light"
     },
     "output_type": "display_data"
    }
   ],
   "source": [
    "sb.boxplot(gasturbines.AT)"
   ]
  },
  {
   "cell_type": "code",
   "execution_count": 15,
   "id": "2e23d941",
   "metadata": {},
   "outputs": [
    {
     "name": "stderr",
     "output_type": "stream",
     "text": [
      "C:\\Users\\hp\\anaconda3\\lib\\site-packages\\seaborn\\_decorators.py:36: FutureWarning: Pass the following variable as a keyword arg: x. From version 0.12, the only valid positional argument will be `data`, and passing other arguments without an explicit keyword will result in an error or misinterpretation.\n",
      "  warnings.warn(\n"
     ]
    },
    {
     "data": {
      "text/plain": [
       "<AxesSubplot:xlabel='AP'>"
      ]
     },
     "execution_count": 15,
     "metadata": {},
     "output_type": "execute_result"
    },
    {
     "data": {
      "image/png": "[encoded data removed]",
      "text/plain": [
       "<Figure size 432x288 with 1 Axes>"
      ]
     },
     "metadata": {
      "needs_background": "light"
     },
     "output_type": "display_data"
    }
   ],
   "source": [
    "sb.boxplot(gasturbines.AP)"
   ]
  },
  {
   "cell_type": "code",
   "execution_count": 16,
   "id": "88f3542c",
   "metadata": {},
   "outputs": [
    {
     "name": "stderr",
     "output_type": "stream",
     "text": [
      "C:\\Users\\hp\\anaconda3\\lib\\site-packages\\seaborn\\_decorators.py:36: FutureWarning: Pass the following variable as a keyword arg: x. From version 0.12, the only valid positional argument will be `data`, and passing other arguments without an explicit keyword will result in an error or misinterpretation.\n",
      "  warnings.warn(\n"
     ]
    },
    {
     "data": {
      "text/plain": [
       "<AxesSubplot:xlabel='AH'>"
      ]
     },
     "execution_count": 16,
     "metadata": {},
     "output_type": "execute_result"
    },
    {
     "data": {
      "image/png": "[encoded data removed]",
      "text/plain": [
       "<Figure size 432x288 with 1 Axes>"
      ]
     },
     "metadata": {
      "needs_background": "light"
     },
     "output_type": "display_data"
    }
   ],
   "source": [
    "sb.boxplot(gasturbines.AH)"
   ]
  },
  {
   "cell_type": "code",
   "execution_count": 17,
   "id": "775f5220",
   "metadata": {},
   "outputs": [
    {
     "name": "stderr",
     "output_type": "stream",
     "text": [
      "C:\\Users\\hp\\anaconda3\\lib\\site-packages\\seaborn\\_decorators.py:36: FutureWarning: Pass the following variable as a keyword arg: x. From version 0.12, the only valid positional argument will be `data`, and passing other arguments without an explicit keyword will result in an error or misinterpretation.\n",
      "  warnings.warn(\n"
     ]
    },
    {
     "data": {
      "text/plain": [
       "<AxesSubplot:xlabel='AFDP'>"
      ]
     },
     "execution_count": 17,
     "metadata": {},
     "output_type": "execute_result"
    },
    {
     "data": {
      "image/png": "[encoded data removed]",
      "text/plain": [
       "<Figure size 432x288 with 1 Axes>"
      ]
     },
     "metadata": {
      "needs_background": "light"
     },
     "output_type": "display_data"
    }
   ],
   "source": [
    "sb.boxplot(gasturbines.AFDP)"
   ]
  },
  {
   "cell_type": "code",
   "execution_count": 18,
   "id": "133adf1c",
   "metadata": {},
   "outputs": [
    {
     "name": "stderr",
     "output_type": "stream",
     "text": [
      "C:\\Users\\hp\\anaconda3\\lib\\site-packages\\seaborn\\_decorators.py:36: FutureWarning: Pass the following variable as a keyword arg: x. From version 0.12, the only valid positional argument will be `data`, and passing other arguments without an explicit keyword will result in an error or misinterpretation.\n",
      "  warnings.warn(\n"
     ]
    },
    {
     "data": {
      "text/plain": [
       "<AxesSubplot:xlabel='GTEP'>"
      ]
     },
     "execution_count": 18,
     "metadata": {},
     "output_type": "execute_result"
    },
    {
     "data": {
      "image/png": "[encoded data removed]",
      "text/plain": [
       "<Figure size 432x288 with 1 Axes>"
      ]
     },
     "metadata": {
      "needs_background": "light"
     },
     "output_type": "display_data"
    }
   ],
   "source": [
    "sb.boxplot(gasturbines.GTEP)"
   ]
  },
  {
   "cell_type": "code",
   "execution_count": 19,
   "id": "ab5f0812",
   "metadata": {},
   "outputs": [
    {
     "name": "stderr",
     "output_type": "stream",
     "text": [
      "C:\\Users\\hp\\anaconda3\\lib\\site-packages\\seaborn\\_decorators.py:36: FutureWarning: Pass the following variable as a keyword arg: x. From version 0.12, the only valid positional argument will be `data`, and passing other arguments without an explicit keyword will result in an error or misinterpretation.\n",
      "  warnings.warn(\n"
     ]
    },
    {
     "data": {
      "text/plain": [
       "<AxesSubplot:xlabel='TIT'>"
      ]
     },
     "execution_count": 19,
     "metadata": {},
     "output_type": "execute_result"
    },
    {
     "data": {
      "image/png": "[encoded data removed]",
      "text/plain": [
       "<Figure size 432x288 with 1 Axes>"
      ]
     },
     "metadata": {
      "needs_background": "light"
     },
     "output_type": "display_data"
    }
   ],
   "source": [
    "sb.boxplot(gasturbines.TIT)"
   ]
  },
  {
   "cell_type": "code",
   "execution_count": 20,
   "id": "ffd8483c",
   "metadata": {},
   "outputs": [
    {
     "name": "stderr",
     "output_type": "stream",
     "text": [
      "C:\\Users\\hp\\anaconda3\\lib\\site-packages\\seaborn\\_decorators.py:36: FutureWarning: Pass the following variable as a keyword arg: x. From version 0.12, the only valid positional argument will be `data`, and passing other arguments without an explicit keyword will result in an error or misinterpretation.\n",
      "  warnings.warn(\n"
     ]
    },
    {
     "data": {
      "text/plain": [
       "<AxesSubplot:xlabel='TAT'>"
      ]
     },
     "execution_count": 20,
     "metadata": {},
     "output_type": "execute_result"
    },
    {
     "data": {
      "image/png": "[encoded data removed]",
      "text/plain": [
       "<Figure size 432x288 with 1 Axes>"
      ]
     },
     "metadata": {
      "needs_background": "light"
     },
     "output_type": "display_data"
    }
   ],
   "source": [
    "sb.boxplot(gasturbines.TAT)"
   ]
  },
  {
   "cell_type": "code",
   "execution_count": 21,
   "id": "11a9f33e",
   "metadata": {},
   "outputs": [
    {
     "name": "stderr",
     "output_type": "stream",
     "text": [
      "C:\\Users\\hp\\anaconda3\\lib\\site-packages\\seaborn\\_decorators.py:36: FutureWarning: Pass the following variable as a keyword arg: x. From version 0.12, the only valid positional argument will be `data`, and passing other arguments without an explicit keyword will result in an error or misinterpretation.\n",
      "  warnings.warn(\n"
     ]
    },
    {
     "data": {
      "text/plain": [
       "<AxesSubplot:xlabel='TEY'>"
      ]
     },
     "execution_count": 21,
     "metadata": {},
     "output_type": "execute_result"
    },
    {
     "data": {
      "image/png": "[encoded data removed]",
      "text/plain": [
       "<Figure size 432x288 with 1 Axes>"
      ]
     },
     "metadata": {
      "needs_background": "light"
     },
     "output_type": "display_data"
    }
   ],
   "source": [
    "sb.boxplot(gasturbines.TEY)"
   ]
  },
  {
   "cell_type": "code",
   "execution_count": 22,
   "id": "f5c1eb3c",
   "metadata": {},
   "outputs": [
    {
     "name": "stderr",
     "output_type": "stream",
     "text": [
      "C:\\Users\\hp\\anaconda3\\lib\\site-packages\\seaborn\\_decorators.py:36: FutureWarning: Pass the following variable as a keyword arg: x. From version 0.12, the only valid positional argument will be `data`, and passing other arguments without an explicit keyword will result in an error or misinterpretation.\n",
      "  warnings.warn(\n"
     ]
    },
    {
     "data": {
      "text/plain": [
       "<AxesSubplot:xlabel='CDP'>"
      ]
     },
     "execution_count": 22,
     "metadata": {},
     "output_type": "execute_result"
    },
    {
     "data": {
      "image/png": "[encoded data removed]",
      "text/plain": [
       "<Figure size 432x288 with 1 Axes>"
      ]
     },
     "metadata": {
      "needs_background": "light"
     },
     "output_type": "display_data"
    }
   ],
   "source": [
    "sb.boxplot(gasturbines.CDP)"
   ]
  },
  {
   "cell_type": "code",
   "execution_count": 23,
   "id": "b88f7b0b",
   "metadata": {},
   "outputs": [
    {
     "name": "stderr",
     "output_type": "stream",
     "text": [
      "C:\\Users\\hp\\anaconda3\\lib\\site-packages\\seaborn\\_decorators.py:36: FutureWarning: Pass the following variable as a keyword arg: x. From version 0.12, the only valid positional argument will be `data`, and passing other arguments without an explicit keyword will result in an error or misinterpretation.\n",
      "  warnings.warn(\n"
     ]
    },
    {
     "data": {
      "text/plain": [
       "<AxesSubplot:xlabel='CO'>"
      ]
     },
     "execution_count": 23,
     "metadata": {},
     "output_type": "execute_result"
    },
    {
     "data": {
      "image/png": "[encoded data removed]",
      "text/plain": [
       "<Figure size 432x288 with 1 Axes>"
      ]
     },
     "metadata": {
      "needs_background": "light"
     },
     "output_type": "display_data"
    }
   ],
   "source": [
    "sb.boxplot(gasturbines.CO)"
   ]
  },
  {
   "cell_type": "code",
   "execution_count": 24,
   "id": "169e8d84",
   "metadata": {},
   "outputs": [
    {
     "name": "stderr",
     "output_type": "stream",
     "text": [
      "C:\\Users\\hp\\anaconda3\\lib\\site-packages\\seaborn\\_decorators.py:36: FutureWarning: Pass the following variable as a keyword arg: x. From version 0.12, the only valid positional argument will be `data`, and passing other arguments without an explicit keyword will result in an error or misinterpretation.\n",
      "  warnings.warn(\n"
     ]
    },
    {
     "data": {
      "text/plain": [
       "<AxesSubplot:xlabel='NOX'>"
      ]
     },
     "execution_count": 24,
     "metadata": {},
     "output_type": "execute_result"
    },
    {
     "data": {
      "image/png": "[encoded data removed]",
      "text/plain": [
       "<Figure size 432x288 with 1 Axes>"
      ]
     },
     "metadata": {
      "needs_background": "light"
     },
     "output_type": "display_data"
    }
   ],
   "source": [
    "sb.boxplot(gasturbines.NOX)"
   ]
  },
  {
   "cell_type": "code",
   "execution_count": 25,
   "id": "4bb0dbfe",
   "metadata": {},
   "outputs": [],
   "source": [
    "##all potiong done## check for outliers"
   ]
  },
  {
   "cell_type": "code",
   "execution_count": 26,
   "id": "6da91b35",
   "metadata": {},
   "outputs": [],
   "source": [
    "outliers=[]"
   ]
  },
  {
   "cell_type": "code",
   "execution_count": 28,
   "id": "fdfec306",
   "metadata": {},
   "outputs": [],
   "source": [
    "def detect_outlier(data_1):\n",
    "    outliers.clear()\n",
    "    threshold=3\n",
    "    mean_1 = np.mean(data_1)\n",
    "    std_1 =np.std(data_1)\n",
    "    \n",
    "    for y in data_1:\n",
    "        z_score= (y - mean_1)/std_1 \n",
    "        if np.abs(z_score) > threshold:\n",
    "            outliers.append(y)\n",
    "    return outliers"
   ]
  },
  {
   "cell_type": "code",
   "execution_count": 30,
   "id": "c281de0b",
   "metadata": {},
   "outputs": [
    {
     "data": {
      "text/plain": [
       "[993.51,\n",
       " 992.42,\n",
       " 991.73,\n",
       " 991.01,\n",
       " 990.28,\n",
       " 989.67,\n",
       " 988.97,\n",
       " 988.63,\n",
       " 988.2,\n",
       " 988.11,\n",
       " 987.84,\n",
       " 988.21,\n",
       " 988.87,\n",
       " 988.65,\n",
       " 989.32,\n",
       " 990.22,\n",
       " 990.87,\n",
       " 992.42,\n",
       " 993.55,\n",
       " 993.9,\n",
       " 993.23,\n",
       " 993.01,\n",
       " 993.3,\n",
       " 992.89,\n",
       " 993.59,\n",
       " 991.25,\n",
       " 988.82,\n",
       " 987.43,\n",
       " 986.41,\n",
       " 985.85,\n",
       " 986.87,\n",
       " 988.34,\n",
       " 987.56,\n",
       " 987.5,\n",
       " 986.56,\n",
       " 986.43,\n",
       " 986.16,\n",
       " 986.25,\n",
       " 986.41,\n",
       " 986.78,\n",
       " 987.31,\n",
       " 988.5,\n",
       " 989.93,\n",
       " 991.17,\n",
       " 992.37,\n",
       " 993.42,\n",
       " 993.93,\n",
       " 993.76,\n",
       " 993.39,\n",
       " 993.51,\n",
       " 1032.6,\n",
       " 1032.8,\n",
       " 1033.0,\n",
       " 1033.0,\n",
       " 1033.0,\n",
       " 1033.0,\n",
       " 1033.2,\n",
       " 1033.0,\n",
       " 1033.0,\n",
       " 1033.4,\n",
       " 1033.9,\n",
       " 1034.2,\n",
       " 1034.0,\n",
       " 1033.4,\n",
       " 1032.8]"
      ]
     },
     "execution_count": 30,
     "metadata": {},
     "output_type": "execute_result"
    }
   ],
   "source": [
    "detect_outlier(gasturbines.AP)"
   ]
  },
  {
   "cell_type": "code",
   "execution_count": null,
   "id": "95ef030e",
   "metadata": {},
   "outputs": [],
   "source": [
    "##'AT', 'AP', 'AH', 'AFDP', 'GTEP', 'TIT', 'TAT', 'TEY', 'CDP', 'CO',\n",
    "       ##'NOX'"
   ]
  },
  {
   "cell_type": "code",
   "execution_count": 31,
   "id": "2990b860",
   "metadata": {},
   "outputs": [
    {
     "data": {
      "text/plain": [
       "65"
      ]
     },
     "execution_count": 31,
     "metadata": {},
     "output_type": "execute_result"
    }
   ],
   "source": [
    "len(outliers)"
   ]
  },
  {
   "cell_type": "code",
   "execution_count": 32,
   "id": "02d7fb83",
   "metadata": {},
   "outputs": [
    {
     "data": {
      "text/plain": [
       "[35.563,\n",
       " 36.504,\n",
       " 33.65,\n",
       " 31.964,\n",
       " 35.934,\n",
       " 35.282,\n",
       " 36.936,\n",
       " 37.27,\n",
       " 37.26,\n",
       " 37.566,\n",
       " 30.344,\n",
       " 32.617,\n",
       " 33.023,\n",
       " 34.98,\n",
       " 36.727,\n",
       " 36.373,\n",
       " 35.909,\n",
       " 36.927,\n",
       " 37.19,\n",
       " 36.704,\n",
       " 35.625,\n",
       " 36.401,\n",
       " 36.742,\n",
       " 34.493,\n",
       " 35.417,\n",
       " 35.112,\n",
       " 36.039]"
      ]
     },
     "execution_count": 32,
     "metadata": {},
     "output_type": "execute_result"
    }
   ],
   "source": [
    "detect_outlier(gasturbines.AH)"
   ]
  },
  {
   "cell_type": "code",
   "execution_count": 33,
   "id": "96ae105e",
   "metadata": {},
   "outputs": [
    {
     "data": {
      "text/plain": [
       "27"
      ]
     },
     "execution_count": 33,
     "metadata": {},
     "output_type": "execute_result"
    }
   ],
   "source": [
    "len(outliers)"
   ]
  },
  {
   "cell_type": "code",
   "execution_count": 35,
   "id": "a2d47983",
   "metadata": {},
   "outputs": [
    {
     "data": {
      "text/plain": [
       "[6.5738,\n",
       " 6.7159,\n",
       " 6.717,\n",
       " 6.5003,\n",
       " 6.4841,\n",
       " 6.5332,\n",
       " 7.2399,\n",
       " 6.7714,\n",
       " 7.5549,\n",
       " 6.956,\n",
       " 6.5875,\n",
       " 6.5548,\n",
       " 7.6106,\n",
       " 6.9259,\n",
       " 6.9831,\n",
       " 7.3189]"
      ]
     },
     "execution_count": 35,
     "metadata": {},
     "output_type": "execute_result"
    }
   ],
   "source": [
    "detect_outlier(gasturbines.AFDP)"
   ]
  },
  {
   "cell_type": "code",
   "execution_count": 36,
   "id": "0d7cc4f4",
   "metadata": {},
   "outputs": [
    {
     "data": {
      "text/plain": [
       "16"
      ]
     },
     "execution_count": 36,
     "metadata": {},
     "output_type": "execute_result"
    }
   ],
   "source": [
    "len(outliers)"
   ]
  },
  {
   "cell_type": "code",
   "execution_count": 38,
   "id": "77f6a4a7",
   "metadata": {},
   "outputs": [
    {
     "data": {
      "text/plain": [
       "[1028.5,\n",
       " 1032.5,\n",
       " 1025.6,\n",
       " 1030.2,\n",
       " 1029.0,\n",
       " 1026.4,\n",
       " 1027.6,\n",
       " 1027.9,\n",
       " 1028.6,\n",
       " 1030.4,\n",
       " 1029.3,\n",
       " 1030.4,\n",
       " 1027.9,\n",
       " 1031.3,\n",
       " 1033.3,\n",
       " 1032.2,\n",
       " 1032.2,\n",
       " 1032.3,\n",
       " 1029.5,\n",
       " 1029.5,\n",
       " 1028.9,\n",
       " 1025.6,\n",
       " 1027.4,\n",
       " 1032.5,\n",
       " 1033.8,\n",
       " 1034.0,\n",
       " 1034.2,\n",
       " 1033.9,\n",
       " 1033.8,\n",
       " 1027.8,\n",
       " 1034.0,\n",
       " 1030.5,\n",
       " 1024.6,\n",
       " 1033.4,\n",
       " 1032.6,\n",
       " 1034.1,\n",
       " 1033.7,\n",
       " 1033.9,\n",
       " 1032.0,\n",
       " 1028.2,\n",
       " 1028.7,\n",
       " 1032.3,\n",
       " 1031.5,\n",
       " 1031.5,\n",
       " 1027.8,\n",
       " 1030.4,\n",
       " 1027.8,\n",
       " 1029.1,\n",
       " 1025.6,\n",
       " 1025.0,\n",
       " 1026.9,\n",
       " 1029.5,\n",
       " 1028.7,\n",
       " 1027.4,\n",
       " 1027.2,\n",
       " 1027.4,\n",
       " 1028.0,\n",
       " 1026.4,\n",
       " 1026.8,\n",
       " 1027.8,\n",
       " 1033.1,\n",
       " 1026.6,\n",
       " 1029.3,\n",
       " 1032.3,\n",
       " 1031.1,\n",
       " 1032.9,\n",
       " 1009.5,\n",
       " 1000.8,\n",
       " 1001.4,\n",
       " 1001.4,\n",
       " 1001.3,\n",
       " 1024.7,\n",
       " 1028.4,\n",
       " 1028.7,\n",
       " 1018.3,\n",
       " 1033.8,\n",
       " 1024.5,\n",
       " 1026.6,\n",
       " 1032.2,\n",
       " 1025.8,\n",
       " 1031.7,\n",
       " 1031.0,\n",
       " 1032.9,\n",
       " 1031.5,\n",
       " 1026.4,\n",
       " 1032.8,\n",
       " 1024.4,\n",
       " 1033.8,\n",
       " 1026.1,\n",
       " 1023.9]"
      ]
     },
     "execution_count": 38,
     "metadata": {},
     "output_type": "execute_result"
    }
   ],
   "source": [
    "detect_outlier(gasturbines.TIT)"
   ]
  },
  {
   "cell_type": "code",
   "execution_count": 39,
   "id": "b3e95e62",
   "metadata": {},
   "outputs": [
    {
     "data": {
      "text/plain": [
       "90"
      ]
     },
     "execution_count": 39,
     "metadata": {},
     "output_type": "execute_result"
    }
   ],
   "source": [
    "len(outliers)"
   ]
  },
  {
   "cell_type": "code",
   "execution_count": 40,
   "id": "30980eb8",
   "metadata": {},
   "outputs": [
    {
     "data": {
      "text/plain": [
       "[515.42,\n",
       " 514.66,\n",
       " 514.43,\n",
       " 514.3,\n",
       " 513.47,\n",
       " 513.06,\n",
       " 513.09,\n",
       " 513.29,\n",
       " 521.01,\n",
       " 520.62,\n",
       " 521.71,\n",
       " 518.08,\n",
       " 520.94,\n",
       " 519.19,\n",
       " 516.45,\n",
       " 515.87,\n",
       " 516.65,\n",
       " 517.31,\n",
       " 517.72,\n",
       " 518.51,\n",
       " 518.85,\n",
       " 519.78,\n",
       " 519.91,\n",
       " 520.21,\n",
       " 519.8,\n",
       " 519.79,\n",
       " 513.75,\n",
       " 521.09,\n",
       " 519.63,\n",
       " 518.23,\n",
       " 517.12,\n",
       " 516.96,\n",
       " 517.2,\n",
       " 517.69,\n",
       " 517.36,\n",
       " 517.17,\n",
       " 516.9,\n",
       " 516.4,\n",
       " 519.48,\n",
       " 520.75,\n",
       " 519.9,\n",
       " 517.77,\n",
       " 516.37,\n",
       " 521.27,\n",
       " 521.33,\n",
       " 521.64,\n",
       " 518.74,\n",
       " 517.56,\n",
       " 517.86,\n",
       " 517.86,\n",
       " 517.9,\n",
       " 518.62,\n",
       " 519.93,\n",
       " 519.71,\n",
       " 518.58,\n",
       " 512.45,\n",
       " 512.6,\n",
       " 512.6,\n",
       " 513.17,\n",
       " 517.32,\n",
       " 517.59,\n",
       " 521.2,\n",
       " 518.88,\n",
       " 519.11,\n",
       " 520.93]"
      ]
     },
     "execution_count": 40,
     "metadata": {},
     "output_type": "execute_result"
    }
   ],
   "source": [
    "detect_outlier(gasturbines.TAT)"
   ]
  },
  {
   "cell_type": "code",
   "execution_count": 41,
   "id": "ecde5b78",
   "metadata": {},
   "outputs": [
    {
     "data": {
      "text/plain": [
       "65"
      ]
     },
     "execution_count": 41,
     "metadata": {},
     "output_type": "execute_result"
    }
   ],
   "source": [
    "len(outliers)"
   ]
  },
  {
   "cell_type": "code",
   "execution_count": 42,
   "id": "5c603db3",
   "metadata": {},
   "outputs": [],
   "source": [
    "data = gasturbines.iloc[:,2:]"
   ]
  },
  {
   "cell_type": "code",
   "execution_count": 43,
   "id": "5c3fc30f",
   "metadata": {},
   "outputs": [
    {
     "name": "stdout",
     "output_type": "stream",
     "text": [
      "           AH    AFDP    GTEP     TIT     TAT     TEY     CDP      CO     NOX\n",
      "0      96.799  3.5000  19.663  1059.2  550.00  114.70  10.605  3.1547  82.722\n",
      "1      97.118  3.4998  19.728  1059.3  550.00  114.72  10.598  3.2363  82.776\n",
      "2      95.939  3.4824  19.779  1059.4  549.87  114.71  10.601  3.2012  82.468\n",
      "3      95.249  3.4805  19.792  1059.6  549.99  114.72  10.606  3.1923  82.670\n",
      "4      95.150  3.4976  19.765  1059.7  549.98  114.72  10.612  3.2484  82.311\n",
      "...       ...     ...     ...     ...     ...     ...     ...     ...     ...\n",
      "15034  98.460  3.5421  19.164  1049.7  546.21  111.61  10.400  4.5186  79.559\n",
      "15035  99.093  3.5059  19.414  1046.3  543.22  111.78  10.433  4.8470  79.917\n",
      "15036  99.496  3.4770  19.530  1037.7  537.32  110.19  10.483  7.9632  90.912\n",
      "15037  99.008  3.4486  19.377  1043.2  541.24  110.74  10.533  6.2494  93.227\n",
      "15038  97.533  3.4275  19.306  1049.9  545.85  111.58  10.583  4.9816  92.498\n",
      "\n",
      "[15039 rows x 9 columns]\n"
     ]
    }
   ],
   "source": [
    "print(data)\n"
   ]
  },
  {
   "cell_type": "code",
   "execution_count": 44,
   "id": "6b04ba0c",
   "metadata": {},
   "outputs": [
    {
     "ename": "KeyError",
     "evalue": "'size_category'",
     "output_type": "error",
     "traceback": [
      "\u001b[1;31m---------------------------------------------------------------------------\u001b[0m",
      "\u001b[1;31mKeyError\u001b[0m                                  Traceback (most recent call last)",
      "\u001b[1;32m~\\anaconda3\\lib\\site-packages\\pandas\\core\\indexes\\base.py\u001b[0m in \u001b[0;36mget_loc\u001b[1;34m(self, key, method, tolerance)\u001b[0m\n\u001b[0;32m   3079\u001b[0m             \u001b[1;32mtry\u001b[0m\u001b[1;33m:\u001b[0m\u001b[1;33m\u001b[0m\u001b[1;33m\u001b[0m\u001b[0m\n\u001b[1;32m-> 3080\u001b[1;33m                 \u001b[1;32mreturn\u001b[0m \u001b[0mself\u001b[0m\u001b[1;33m.\u001b[0m\u001b[0m_engine\u001b[0m\u001b[1;33m.\u001b[0m\u001b[0mget_loc\u001b[0m\u001b[1;33m(\u001b[0m\u001b[0mcasted_key\u001b[0m\u001b[1;33m)\u001b[0m\u001b[1;33m\u001b[0m\u001b[1;33m\u001b[0m\u001b[0m\n\u001b[0m\u001b[0;32m   3081\u001b[0m             \u001b[1;32mexcept\u001b[0m \u001b[0mKeyError\u001b[0m \u001b[1;32mas\u001b[0m \u001b[0merr\u001b[0m\u001b[1;33m:\u001b[0m\u001b[1;33m\u001b[0m\u001b[1;33m\u001b[0m\u001b[0m\n",
      "\u001b[1;32mpandas\\_libs\\index.pyx\u001b[0m in \u001b[0;36mpandas._libs.index.IndexEngine.get_loc\u001b[1;34m()\u001b[0m\n",
      "\u001b[1;32mpandas\\_libs\\index.pyx\u001b[0m in \u001b[0;36mpandas._libs.index.IndexEngine.get_loc\u001b[1;34m()\u001b[0m\n",
      "\u001b[1;32mpandas\\_libs\\hashtable_class_helper.pxi\u001b[0m in \u001b[0;36mpandas._libs.hashtable.PyObjectHashTable.get_item\u001b[1;34m()\u001b[0m\n",
      "\u001b[1;32mpandas\\_libs\\hashtable_class_helper.pxi\u001b[0m in \u001b[0;36mpandas._libs.hashtable.PyObjectHashTable.get_item\u001b[1;34m()\u001b[0m\n",
      "\u001b[1;31mKeyError\u001b[0m: 'size_category'",
      "\nThe above exception was the direct cause of the following exception:\n",
      "\u001b[1;31mKeyError\u001b[0m                                  Traceback (most recent call last)",
      "\u001b[1;32m<ipython-input-44-3f6fa8b6b79a>\u001b[0m in \u001b[0;36m<module>\u001b[1;34m\u001b[0m\n\u001b[1;32m----> 1\u001b[1;33m \u001b[0mdata\u001b[0m\u001b[1;33m[\u001b[0m\u001b[1;34m'size_category'\u001b[0m\u001b[1;33m]\u001b[0m\u001b[1;33m.\u001b[0m\u001b[0mdescribe\u001b[0m\u001b[1;33m(\u001b[0m\u001b[1;33m)\u001b[0m\u001b[1;33m\u001b[0m\u001b[1;33m\u001b[0m\u001b[0m\n\u001b[0m",
      "\u001b[1;32m~\\anaconda3\\lib\\site-packages\\pandas\\core\\frame.py\u001b[0m in \u001b[0;36m__getitem__\u001b[1;34m(self, key)\u001b[0m\n\u001b[0;32m   3022\u001b[0m             \u001b[1;32mif\u001b[0m \u001b[0mself\u001b[0m\u001b[1;33m.\u001b[0m\u001b[0mcolumns\u001b[0m\u001b[1;33m.\u001b[0m\u001b[0mnlevels\u001b[0m \u001b[1;33m>\u001b[0m \u001b[1;36m1\u001b[0m\u001b[1;33m:\u001b[0m\u001b[1;33m\u001b[0m\u001b[1;33m\u001b[0m\u001b[0m\n\u001b[0;32m   3023\u001b[0m                 \u001b[1;32mreturn\u001b[0m \u001b[0mself\u001b[0m\u001b[1;33m.\u001b[0m\u001b[0m_getitem_multilevel\u001b[0m\u001b[1;33m(\u001b[0m\u001b[0mkey\u001b[0m\u001b[1;33m)\u001b[0m\u001b[1;33m\u001b[0m\u001b[1;33m\u001b[0m\u001b[0m\n\u001b[1;32m-> 3024\u001b[1;33m             \u001b[0mindexer\u001b[0m \u001b[1;33m=\u001b[0m \u001b[0mself\u001b[0m\u001b[1;33m.\u001b[0m\u001b[0mcolumns\u001b[0m\u001b[1;33m.\u001b[0m\u001b[0mget_loc\u001b[0m\u001b[1;33m(\u001b[0m\u001b[0mkey\u001b[0m\u001b[1;33m)\u001b[0m\u001b[1;33m\u001b[0m\u001b[1;33m\u001b[0m\u001b[0m\n\u001b[0m\u001b[0;32m   3025\u001b[0m             \u001b[1;32mif\u001b[0m \u001b[0mis_integer\u001b[0m\u001b[1;33m(\u001b[0m\u001b[0mindexer\u001b[0m\u001b[1;33m)\u001b[0m\u001b[1;33m:\u001b[0m\u001b[1;33m\u001b[0m\u001b[1;33m\u001b[0m\u001b[0m\n\u001b[0;32m   3026\u001b[0m                 \u001b[0mindexer\u001b[0m \u001b[1;33m=\u001b[0m \u001b[1;33m[\u001b[0m\u001b[0mindexer\u001b[0m\u001b[1;33m]\u001b[0m\u001b[1;33m\u001b[0m\u001b[1;33m\u001b[0m\u001b[0m\n",
      "\u001b[1;32m~\\anaconda3\\lib\\site-packages\\pandas\\core\\indexes\\base.py\u001b[0m in \u001b[0;36mget_loc\u001b[1;34m(self, key, method, tolerance)\u001b[0m\n\u001b[0;32m   3080\u001b[0m                 \u001b[1;32mreturn\u001b[0m \u001b[0mself\u001b[0m\u001b[1;33m.\u001b[0m\u001b[0m_engine\u001b[0m\u001b[1;33m.\u001b[0m\u001b[0mget_loc\u001b[0m\u001b[1;33m(\u001b[0m\u001b[0mcasted_key\u001b[0m\u001b[1;33m)\u001b[0m\u001b[1;33m\u001b[0m\u001b[1;33m\u001b[0m\u001b[0m\n\u001b[0;32m   3081\u001b[0m             \u001b[1;32mexcept\u001b[0m \u001b[0mKeyError\u001b[0m \u001b[1;32mas\u001b[0m \u001b[0merr\u001b[0m\u001b[1;33m:\u001b[0m\u001b[1;33m\u001b[0m\u001b[1;33m\u001b[0m\u001b[0m\n\u001b[1;32m-> 3082\u001b[1;33m                 \u001b[1;32mraise\u001b[0m \u001b[0mKeyError\u001b[0m\u001b[1;33m(\u001b[0m\u001b[0mkey\u001b[0m\u001b[1;33m)\u001b[0m \u001b[1;32mfrom\u001b[0m \u001b[0merr\u001b[0m\u001b[1;33m\u001b[0m\u001b[1;33m\u001b[0m\u001b[0m\n\u001b[0m\u001b[0;32m   3083\u001b[0m \u001b[1;33m\u001b[0m\u001b[0m\n\u001b[0;32m   3084\u001b[0m         \u001b[1;32mif\u001b[0m \u001b[0mtolerance\u001b[0m \u001b[1;32mis\u001b[0m \u001b[1;32mnot\u001b[0m \u001b[1;32mNone\u001b[0m\u001b[1;33m:\u001b[0m\u001b[1;33m\u001b[0m\u001b[1;33m\u001b[0m\u001b[0m\n",
      "\u001b[1;31mKeyError\u001b[0m: 'size_category'"
     ]
    }
   ],
   "source": [
    "data['size_category'].describe()"
   ]
  },
  {
   "cell_type": "code",
   "execution_count": null,
   "id": "94a9ca9b",
   "metadata": {},
   "outputs": [],
   "source": []
  },
  {
   "cell_type": "code",
   "execution_count": null,
   "id": "34642916",
   "metadata": {},
   "outputs": [],
   "source": []
  }
 ],
 "metadata": {
  "kernelspec": {
   "display_name": "Python 3",
   "language": "python",
   "name": "python3"
  },
  "language_info": {
   "codemirror_mode": {
    "name": "ipython",
    "version": 3
   },
   "file_extension": ".py",
   "mimetype": "text/x-python",
   "name": "python",
   "nbconvert_exporter": "python",
   "pygments_lexer": "ipython3",
   "version": "3.8.8"
  }
 },
 "nbformat": 4,
 "nbformat_minor": 5
}
